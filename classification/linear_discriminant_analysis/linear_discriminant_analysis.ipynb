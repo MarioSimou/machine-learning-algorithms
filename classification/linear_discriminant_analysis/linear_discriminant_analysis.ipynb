{
 "cells": [
  {
   "cell_type": "code",
   "execution_count": 1,
   "source": [
    "import numpy as np\n",
    "import pandas as pd\n",
    "from sklearn.discriminant_analysis import LinearDiscriminantAnalysis \n",
    "from sklearn.model_selection import train_test_split\n",
    "from matplotlib import pyplot as plt\n",
    "\n",
    "zeros = np.random.normal(2, 1, 100)\n",
    "ones = np.random.normal(10,1,100)\n",
    "\n",
    "X = list(zeros) + list(ones)\n",
    "y = [0 for _ in zeros] + [1 for _ in ones]\n",
    "\n",
    "dataset = pd.DataFrame({\n",
    "    'X': X,\n",
    "    'y': y\n",
    "})\n",
    "\n",
    "x_train, x_test, y_train, y_test = train_test_split(dataset[['X']], dataset['y'], train_size=0.8, random_state=0, shuffle=True)\n",
    "\n",
    "model = LinearDiscriminantAnalysis()\n",
    "model.fit(x_train, y_train)\n",
    "\n",
    "print(f'Accuracy: {model.score(x_test, y_test) * 100}%')\n",
    "print('Means: ', model.means_)\n",
    "print('Classes: ', model.classes_)\n",
    "\n",
    "\n",
    "y_pre = model.predict(x_test)\n",
    "\n",
    "train_df = pd.DataFrame({\n",
    "    'x_train': x_train['X'].values,\n",
    "    'y_train': y_train.values\n",
    "})\n",
    "train_df_zeros = train_df[train_df['y_train'] == 0]\n",
    "train_df_ones = train_df[train_df['y_train'] == 1]\n",
    "\n",
    "test_df = pd.DataFrame({\n",
    "    'x_test': x_test['X'].values,\n",
    "    'y_test': y_test.values\n",
    "})\n",
    "test_df_zeros = test_df[test_df['y_test'] == 0]\n",
    "test_df_ones = test_df[test_df['y_test'] == 1]\n",
    "\n",
    "plt.scatter(train_df_zeros['x_train'], [0 for _ in train_df_zeros['x_train']], c='r', label='0')\n",
    "plt.scatter(train_df_ones['x_train'], [0 for _ in train_df_ones['x_train']], c='b', label='1')\n",
    "plt.scatter(test_df_zeros['x_test'], [0.01 for _ in test_df_zeros['x_test']], c='r')\n",
    "plt.scatter(test_df_ones['x_test'], [0.01 for _ in test_df_ones['x_test']], c='b')\n",
    "plt.legend(loc='center right')"
   ],
   "outputs": [],
   "metadata": {}
  }
 ],
 "metadata": {
  "orig_nbformat": 4,
  "language_info": {
   "name": "python",
   "version": "3.7.11",
   "mimetype": "text/x-python",
   "codemirror_mode": {
    "name": "ipython",
    "version": 3
   },
   "pygments_lexer": "ipython3",
   "nbconvert_exporter": "python",
   "file_extension": ".py"
  },
  "kernelspec": {
   "name": "python3",
   "display_name": "Python 3.7.11 64-bit ('python-ml-regression': conda)"
  },
  "interpreter": {
   "hash": "c2902f7711f4e4fd557d35fa6397c58c89a8ff3bb611c1e0dde2864ff3854f6c"
  }
 },
 "nbformat": 4,
 "nbformat_minor": 2
}